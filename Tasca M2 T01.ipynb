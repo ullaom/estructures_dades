{
 "cells": [
  {
   "cell_type": "markdown",
   "metadata": {},
   "source": [
    "# Exercici 1\n",
    "\n",
    "Crea una llista que agrupi els mesos de l’any en trimestres (1T: gener, febrer i març; 2T: abril, maig, juny...), és a dir, una llista amb 4 llistes dins."
   ]
  },
  {
   "cell_type": "code",
   "execution_count": 24,
   "metadata": {},
   "outputs": [
    {
     "name": "stdout",
     "output_type": "stream",
     "text": [
      "['gener', 'febrer', 'març']\n",
      "['abril', 'maig', 'juny']\n",
      "['juliol', 'agost', 'setembre']\n",
      "['octubre', 'novembre', 'decembre']\n"
     ]
    }
   ],
   "source": [
    "T1=[\"gener\", \"febrer\", \"març\"]\n",
    "T2=[\"abril\",\"maig\",\"juny\"]\n",
    "T3=[\"juliol\",\"agost\",\"setembre\"]\n",
    "T4=[\"octubre\",\"novembre\",\"decembre\"]\n",
    "\n",
    "Any=[T1,T2,T3,T4]\n",
    "\n",
    "for x in Any:\n",
    "    print(x) "
   ]
  },
  {
   "cell_type": "markdown",
   "metadata": {},
   "source": [
    "# Exercici 2\n",
    "\n",
    "Crea un codi que et permeti accedir a:\n",
    "\n",
    "    El segon mes del primer trimestre.\n",
    "    Els mesos del primer trimestre.\n",
    "    Setembre i octubre.\n"
   ]
  },
  {
   "cell_type": "code",
   "execution_count": 2,
   "metadata": {},
   "outputs": [
    {
     "name": "stdout",
     "output_type": "stream",
     "text": [
      "El segon mes del primer trimestre es:\n"
     ]
    },
    {
     "data": {
      "text/plain": [
       "'febrer'"
      ]
     },
     "execution_count": 2,
     "metadata": {},
     "output_type": "execute_result"
    }
   ],
   "source": [
    "print(\"El segon mes del primer trimestre es:\")\n",
    "Any[0][1]"
   ]
  },
  {
   "cell_type": "code",
   "execution_count": 3,
   "metadata": {},
   "outputs": [
    {
     "name": "stdout",
     "output_type": "stream",
     "text": [
      "Els mesos del primer trimestre son:\n"
     ]
    },
    {
     "data": {
      "text/plain": [
       "['gener', 'febrer', 'març']"
      ]
     },
     "execution_count": 3,
     "metadata": {},
     "output_type": "execute_result"
    }
   ],
   "source": [
    "print(\"Els mesos del primer trimestre son:\")\n",
    "Any[0]"
   ]
  },
  {
   "cell_type": "code",
   "execution_count": 4,
   "metadata": {},
   "outputs": [
    {
     "data": {
      "text/plain": [
       "('setembre', 'octubre')"
      ]
     },
     "execution_count": 4,
     "metadata": {},
     "output_type": "execute_result"
    }
   ],
   "source": [
    "\n",
    "Any[2][2],Any[3][0]"
   ]
  },
  {
   "cell_type": "markdown",
   "metadata": {},
   "source": [
    "# Exercici 3\n",
    "\n",
    "Crea una llista amb nombres desordenats i respon a les següents preguntes:\n",
    "\n",
    "    Quants números hi ha?\n",
    "    Quantes vegades apareix el número 3.\n",
    "    Quantes vegades apareixen els nombres 3 i 4?\n",
    "    Quin és el número més gran?\n",
    "    Quins són els 3 números més petits?\n",
    "    Quin és el rang d’aquesta llista?\n"
   ]
  },
  {
   "cell_type": "code",
   "execution_count": 5,
   "metadata": {},
   "outputs": [
    {
     "name": "stdout",
     "output_type": "stream",
     "text": [
      "[4, 1, 3, 9, 6, 7]\n"
     ]
    },
    {
     "data": {
      "text/plain": [
       "list"
      ]
     },
     "execution_count": 5,
     "metadata": {},
     "output_type": "execute_result"
    }
   ],
   "source": [
    "import random\n",
    "\n",
    "\n",
    "l1 = random.sample(range(10), 6)\n",
    "\n",
    "print(l1)\n",
    "\n",
    "type(l1)\n"
   ]
  },
  {
   "cell_type": "code",
   "execution_count": 6,
   "metadata": {},
   "outputs": [
    {
     "name": "stdout",
     "output_type": "stream",
     "text": [
      "Quants números hi ha?  Hi ha 6 números\n"
     ]
    }
   ],
   "source": [
    "print(\"Quants números hi ha?\", \" Hi ha\",len(l1), \"números\")\n"
   ]
  },
  {
   "cell_type": "code",
   "execution_count": 7,
   "metadata": {},
   "outputs": [
    {
     "name": "stdout",
     "output_type": "stream",
     "text": [
      "El número 3 apareix 1 vegades\n"
     ]
    }
   ],
   "source": [
    "print(\"El número 3 apareix\",l1.count(3), \"vegades\")\n"
   ]
  },
  {
   "cell_type": "code",
   "execution_count": 8,
   "metadata": {},
   "outputs": [
    {
     "name": "stdout",
     "output_type": "stream",
     "text": [
      "Quantes vegades apareixen els nombres 3 i 4? El número 3 apareix 1 vegades i el número 4 apareix 1 vegades\n"
     ]
    }
   ],
   "source": [
    "print (\"Quantes vegades apareixen els nombres 3 i 4? El número 3 apareix\", l1.count(3),\"vegades i el número 4 apareix\",l1.count(4),\"vegades\")\n"
   ]
  },
  {
   "cell_type": "code",
   "execution_count": 9,
   "metadata": {},
   "outputs": [
    {
     "name": "stdout",
     "output_type": "stream",
     "text": [
      "Quin és el número més gran? El número més gran es el  9\n"
     ]
    }
   ],
   "source": [
    "\n",
    "print(\"Quin és el número més gran? El número més gran es el \", max(l1) )\n",
    "\n"
   ]
  },
  {
   "cell_type": "code",
   "execution_count": 10,
   "metadata": {},
   "outputs": [
    {
     "name": "stdout",
     "output_type": "stream",
     "text": [
      "Quins són els 3 números més petits?\n",
      " Els números més petits son : [1, 3, 4]\n"
     ]
    }
   ],
   "source": [
    "print(\"Quins són els 3 números més petits?\")\n",
    "\n",
    "import heapq\n",
    "\n",
    "mes_petits=heapq.nsmallest(3,l1)\n",
    "print(\" Els números més petits son :\",mes_petits)"
   ]
  },
  {
   "cell_type": "code",
   "execution_count": 11,
   "metadata": {},
   "outputs": [
    {
     "name": "stdout",
     "output_type": "stream",
     "text": [
      "Quin és el rang d’aquesta llista?\n",
      "El rang de aquesta llista es: 8\n"
     ]
    }
   ],
   "source": [
    "print(\"Quin és el rang d’aquesta llista?\")\n",
    " \n",
    "rangol1=max(l1)-min(l1)\n",
    "print(\"El rang de aquesta llista es:\",rangol1)"
   ]
  },
  {
   "cell_type": "markdown",
   "metadata": {},
   "source": [
    "# Exercici 4\n",
    "\n",
    "Crea un diccionari de la següent forma i respon a les preguntes:\n",
    "compra = { \"Pomes\" : {\"Qty\": 5, \"€\": 0.42}, \"Peres\" : {\"Qty\": 3, \"€\": 0.66} }\n",
    "\n",
    "    Afegeix alguna fruita més\n",
    "    Quant han costat les peres en total?\n",
    "    Quantes fruites hem comprat en total?\n",
    "    Quina és la fruita més cara?\n"
   ]
  },
  {
   "cell_type": "code",
   "execution_count": 12,
   "metadata": {},
   "outputs": [
    {
     "name": "stdout",
     "output_type": "stream",
     "text": [
      "{'Pomes': {'Qty': 5, '€': 0.42}, 'Peres': {'Qty': 3, '€': 0.66}}\n"
     ]
    },
    {
     "data": {
      "text/plain": [
       "dict"
      ]
     },
     "execution_count": 12,
     "metadata": {},
     "output_type": "execute_result"
    }
   ],
   "source": [
    "\n",
    "compra = { \"Pomes\":{ \"Qty\": 5, \"€\": 0.42}, \"Peres\":{\"Qty\": 3, \"€\": 0.66} }\n",
    "\n",
    "print(compra)\n",
    "\n",
    "type(compra)"
   ]
  },
  {
   "cell_type": "code",
   "execution_count": 13,
   "metadata": {},
   "outputs": [
    {
     "name": "stdout",
     "output_type": "stream",
     "text": [
      "{'Pomes': {'Qty': 5, '€': 0.42}, 'Peres': {'Qty': 3, '€': 0.66}, 'Plátans': {'Qty': 10, '€': 0.89}, 'Taronjes': {'Qty': 8, '€': 0.67}}\n"
     ]
    }
   ],
   "source": [
    "#Afegeix alguna fruita més\n",
    "\n",
    "compra [\"Plátans\"]={\"Qty\":10,\"€\":0.89} # Afegeixo plátans, la seva quantitat i el seu preu\n",
    "compra[\"Taronjes\"]={\"Qty\":8,\"€\":0.67} # Afegeixo taronjes, la seva qunatitat i el seu preu\n",
    "print(compra)"
   ]
  },
  {
   "cell_type": "code",
   "execution_count": 14,
   "metadata": {},
   "outputs": [
    {
     "name": "stdout",
     "output_type": "stream",
     "text": [
      "dict_values([{'Qty': 5, '€': 0.42}, {'Qty': 3, '€': 0.66}, {'Qty': 10, '€': 0.89}, {'Qty': 8, '€': 0.67}])\n",
      "dict_keys(['Pomes', 'Peres', 'Plátans', 'Taronjes'])\n"
     ]
    }
   ],
   "source": [
    "\n",
    "\n",
    "print(compra.values())\n",
    "print(compra.keys())\n",
    "\n"
   ]
  },
  {
   "cell_type": "code",
   "execution_count": 15,
   "metadata": {},
   "outputs": [
    {
     "name": "stdout",
     "output_type": "stream",
     "text": [
      "Les peres en total han costat: 1.98 €\n"
     ]
    }
   ],
   "source": [
    "#Quant han costat les peres en total?\n",
    "\n",
    "\n",
    "print(\"Les peres en total han costat:\",compra['Peres']['Qty']*compra['Peres']['€'],\"€\")"
   ]
  },
  {
   "cell_type": "code",
   "execution_count": 16,
   "metadata": {},
   "outputs": [
    {
     "name": "stdout",
     "output_type": "stream",
     "text": [
      "Hem comprat: 26 fruites en total\n"
     ]
    }
   ],
   "source": [
    "#Quantes fruites hem comprat en total?                              \n",
    "     \n",
    "\n",
    "\n",
    "total= sum (i['Qty'] for x,i in compra.items())\n",
    "print(\"Hem comprat:\",total,\"fruites en total\")"
   ]
  },
  {
   "cell_type": "code",
   "execution_count": 17,
   "metadata": {},
   "outputs": [
    {
     "name": "stdout",
     "output_type": "stream",
     "text": [
      "0.89\n"
     ]
    }
   ],
   "source": [
    "#Quina és la fruita més cara?\n",
    "\n",
    "fruita_mes_cara=  max (i['€'] for x,i in compra.items())  # Fem un \"max\" per sapiguer cual es valor més alt dels euros.\n",
    "\n",
    "fruita_cara=  (i for x,i in compra.items())\n",
    "\n",
    "print(fruita_mes_cara)\n"
   ]
  },
  {
   "cell_type": "code",
   "execution_count": 23,
   "metadata": {},
   "outputs": [
    {
     "name": "stdout",
     "output_type": "stream",
     "text": [
      "La fruita més cara es: Plátans\n"
     ]
    }
   ],
   "source": [
    "# Volem saber quina fruita correspon a aquest valor:\n",
    "\n",
    "def get_key(val):\n",
    "    for x, i in compra.items():\n",
    "         if val == i['€']:\n",
    "                 return x\n",
    " \n",
    "   \n",
    "    return \"No existeix\" \n",
    "   \n",
    "print(\"La fruita més cara es:\",get_key(0.89))\n",
    "\n",
    "\n"
   ]
  },
  {
   "cell_type": "code",
   "execution_count": null,
   "metadata": {},
   "outputs": [],
   "source": []
  }
 ],
 "metadata": {
  "kernelspec": {
   "display_name": "Python 3",
   "language": "python",
   "name": "python3"
  },
  "language_info": {
   "codemirror_mode": {
    "name": "ipython",
    "version": 3
   },
   "file_extension": ".py",
   "mimetype": "text/x-python",
   "name": "python",
   "nbconvert_exporter": "python",
   "pygments_lexer": "ipython3",
   "version": "3.8.5"
  },
  "latex_envs": {
   "LaTeX_envs_menu_present": true,
   "autoclose": false,
   "autocomplete": true,
   "bibliofile": "biblio.bib",
   "cite_by": "apalike",
   "current_citInitial": 1,
   "eqLabelWithNumbers": true,
   "eqNumInitial": 1,
   "hotkeys": {
    "equation": "Ctrl-E",
    "itemize": "Ctrl-I"
   },
   "labels_anchors": false,
   "latex_user_defs": false,
   "report_style_numbering": false,
   "user_envs_cfg": false
  },
  "nbTranslate": {
   "displayLangs": [
    "*"
   ],
   "hotkey": "alt-t",
   "langInMainMenu": true,
   "sourceLang": "en",
   "targetLang": "fr",
   "useGoogleTranslate": true
  }
 },
 "nbformat": 4,
 "nbformat_minor": 4
}
